{
  "nbformat": 4,
  "nbformat_minor": 0,
  "metadata": {
    "kernelspec": {
      "display_name": "Python 3",
      "language": "python",
      "name": "python3"
    },
    "language_info": {
      "codemirror_mode": {
        "name": "ipython",
        "version": 3
      },
      "file_extension": ".py",
      "mimetype": "text/x-python",
      "name": "python",
      "nbconvert_exporter": "python",
      "pygments_lexer": "ipython3",
      "version": "3.6.8"
    },
    "colab": {
      "name": "Untitled.ipynb",
      "provenance": []
    }
  },
  "cells": [
    {
      "cell_type": "code",
      "metadata": {
        "id": "LguPdp4ZzLFr",
        "colab_type": "code",
        "colab": {}
      },
      "source": [
        "import pandas as pd\n",
        "import re\n",
        "import csv\n",
        "def countwords(FILENAME):\n",
        "    preprocdata = open(FILENAME, 'r')\n",
        "    lines = preprocdata.readlines()\n",
        "    print(str(len(lines)))\n",
        "\n",
        "    totalwords = 0\n",
        "    for i in range(len(lines)):\n",
        "        rep = lines[i]\n",
        "        words = rep.split()\n",
        "        #print(words)\n",
        "        totalwords = totalwords+len(words)\n",
        "\n",
        "    print(str(totalwords))\n",
        "countwords(\"train.txt\")\n",
        "countwords(\"valid.txt\")\n",
        "countwords(\"test.txt\")\n",
        "\n",
        "\n"
      ],
      "execution_count": null,
      "outputs": []
    },
    {
      "cell_type": "code",
      "metadata": {
        "id": "TxsXo4fKzLFw",
        "colab_type": "code",
        "colab": {}
      },
      "source": [
        ""
      ],
      "execution_count": null,
      "outputs": []
    }
  ]
}